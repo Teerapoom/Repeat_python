{
 "cells": [
  {
   "cell_type": "markdown",
   "metadata": {},
   "source": [
    "เขียนโปรเเกรมรับอินพุต 5 ตัวที่เป็นจำนวนเต็มโดยใช้ for loop จากนั้นให้หาผลรวมของจำนวนที่รับเเละพิมพ์ออกมา"
   ]
  },
  {
   "cell_type": "code",
   "execution_count": 9,
   "metadata": {},
   "outputs": [
    {
     "name": "stdout",
     "output_type": "stream",
     "text": [
      "10.0\n",
      "20.0\n",
      "30.0\n",
      "40.0\n",
      "10.0\n",
      "รวมทั้งหมด 110.0\n"
     ]
    }
   ],
   "source": [
    "# from numbers import Number\n",
    "sum = 0\n",
    "for i in range(1,6):\n",
    "    Number_input = int(input(\"กรอกข้อมูล =>\"))\n",
    "    sum += Number_input\n",
    "    print(Number_input)\n",
    "print(\"รวมทั้งหมด\",sum)"
   ]
  },
  {
   "cell_type": "markdown",
   "metadata": {},
   "source": [
    "เขียนโปรเเกรมรับอินพุต 5 ตัวที่เป็นจำนวนเต็มโดยใช้ for loop จากนั้นให้หาผลรวมของจำนวนที่เป็นบวก เเละ จำนวนที่เป็นลบ สุดท้ายให้พิมพ์ผลธ์ออกมา"
   ]
  },
  {
   "cell_type": "code",
   "execution_count": 16,
   "metadata": {},
   "outputs": [
    {
     "name": "stdout",
     "output_type": "stream",
     "text": [
      "เลขที่กรอก => 1,000\n",
      "เลขที่กรอก => 2,000\n",
      "เลขที่กรอก => -50,000\n",
      "เลขที่กรอก => 87\n",
      "เลขที่กรอก => 65\n",
      "ผลร่วมทั้งหมด -46,848\n"
     ]
    }
   ],
   "source": [
    "sum = 0\n",
    "for i in range(5):\n",
    "    Number_input = int(input(\"กรอกข้อมูล =>\"))\n",
    "    sum += Number_input\n",
    "    print(\"เลขที่กรอก => {:,d}\".format(Number_input))\n",
    "print(\"ผลร่วมทั้งหมด => {:,d}\".format(sum))"
   ]
  },
  {
   "cell_type": "markdown",
   "metadata": {},
   "source": [
    "เขียนโปรเเกรมรับอินพุต 5 ตัวที่เป็นจำนวนเต็มโดยใช้ for loop จากนั้นให้หาผลรวมของจำนวนที่เป็นผลคูณ เเละ จำนวนที่เป็นลบ สุดท้ายให้พิมพ์ผลธ์ออกมา"
   ]
  },
  {
   "cell_type": "code",
   "execution_count": 19,
   "metadata": {},
   "outputs": [
    {
     "name": "stdout",
     "output_type": "stream",
     "text": [
      "เลขที่กรอก => 2\n",
      "เลขที่กรอก => 2\n",
      "เลขที่กรอก => 2\n",
      "เลขที่กรอก => 2\n",
      "เลขที่กรอก => 2\n",
      "ผลร่วมทั้งหมด => 32\n"
     ]
    }
   ],
   "source": [
    "sum = 1\n",
    "for i in range(5):\n",
    "    Number_input = int(input(\"กรอกข้อมูล =>\"))\n",
    "    sum *= Number_input\n",
    "    print(\"เลขที่กรอก => {:,d}\".format(Number_input))\n",
    "print(\"ผลร่วมทั้งหมด => {:,d}\".format(sum))"
   ]
  },
  {
   "cell_type": "markdown",
   "metadata": {},
   "source": [
    "เขียนโปรเเกรมรับอินพุต 1 ตัวที่เป็นจำนวนเต็มบวก หลังจากนั้นให้ทำการตรวจสอบว่า มีจำนวนเต็มบวกตัวใดบ้างที่หารจำนวนที่รับมาลงตัวเเละพิมพ์จำนวนเหล่านั้นออกมา"
   ]
  },
  {
   "cell_type": "code",
   "execution_count": null,
   "metadata": {},
   "outputs": [],
   "source": [
    "\n",
    "Number_input = int(input(\"กรอกตัวเลข => \"))\n",
    "i = 1\n",
    "while Number_input > 0 :\n",
    "    if Number_input % i == 0 :\n",
    "        print(\"{} หารลงตัว {}\".format(Number_input,i))\n",
    "    else :\n",
    "        pass\n",
    "    i += 1"
   ]
  }
 ],
 "metadata": {
  "kernelspec": {
   "display_name": "Python 3.10.7 64-bit",
   "language": "python",
   "name": "python3"
  },
  "language_info": {
   "codemirror_mode": {
    "name": "ipython",
    "version": 3
   },
   "file_extension": ".py",
   "mimetype": "text/x-python",
   "name": "python",
   "nbconvert_exporter": "python",
   "pygments_lexer": "ipython3",
   "version": "3.10.7"
  },
  "orig_nbformat": 4,
  "vscode": {
   "interpreter": {
    "hash": "547733121963954cf03ad109e00d47313429c4af37f837bad0df09349b1b3ecd"
   }
  }
 },
 "nbformat": 4,
 "nbformat_minor": 2
}
