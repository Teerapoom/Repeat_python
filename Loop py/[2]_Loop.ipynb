{
 "cells": [
  {
   "cell_type": "markdown",
   "metadata": {},
   "source": [
    "เขียนโปรเเกรมรับอินพุต 5 ตัวที่เป็นจำนวนเต็มโดยใช้ for loop จากนั้นให้หาผลรวมของจำนวนที่รับเเละพิมพ์ออกมา"
   ]
  },
  {
   "cell_type": "code",
   "execution_count": 9,
   "metadata": {},
   "outputs": [
    {
     "name": "stdout",
     "output_type": "stream",
     "text": [
      "10.0\n",
      "20.0\n",
      "30.0\n",
      "40.0\n",
      "10.0\n",
      "รวมทั้งหมด 110.0\n"
     ]
    }
   ],
   "source": [
    "# from numbers import Number\n",
    "sum = 0\n",
    "for i in range(1,6):\n",
    "    Number_input = int(input(\"กรอกข้อมูล =>\"))\n",
    "    sum += Number_input\n",
    "    print(Number_input)\n",
    "print(\"รวมทั้งหมด\",sum)"
   ]
  },
  {
   "cell_type": "markdown",
   "metadata": {},
   "source": [
    "เขียนโปรเเกรมรับอินพุต 5 ตัวที่เป็นจำนวนเต็มโดยใช้ for loop จากนั้นให้หาผลรวมของจำนวนที่เป็นบวก เเละ จำนวนที่เป็นลบ สุดท้ายให้พิมพ์ผลธ์ออกมา"
   ]
  },
  {
   "cell_type": "code",
   "execution_count": 16,
   "metadata": {},
   "outputs": [
    {
     "name": "stdout",
     "output_type": "stream",
     "text": [
      "เลขที่กรอก => 1,000\n",
      "เลขที่กรอก => 2,000\n",
      "เลขที่กรอก => -50,000\n",
      "เลขที่กรอก => 87\n",
      "เลขที่กรอก => 65\n",
      "ผลร่วมทั้งหมด -46,848\n"
     ]
    }
   ],
   "source": [
    "sum = 0\n",
    "for i in range(5):\n",
    "    Number_input = int(input(\"กรอกข้อมูล =>\"))\n",
    "    sum += Number_input\n",
    "    print(\"เลขที่กรอก => {:,d}\".format(Number_input))\n",
    "print(\"ผลร่วมทั้งหมด => {:,d}\".format(sum))"
   ]
  },
  {
   "cell_type": "markdown",
   "metadata": {},
   "source": [
    "เขียนโปรเเกรมรับอินพุต 5 ตัวที่เป็นจำนวนเต็มโดยใช้ for loop จากนั้นให้หาผลรวมของจำนวนที่เป็นผลคูณ เเละ จำนวนที่เป็นลบ สุดท้ายให้พิมพ์ผลธ์ออกมา"
   ]
  },
  {
   "cell_type": "code",
   "execution_count": 19,
   "metadata": {},
   "outputs": [
    {
     "name": "stdout",
     "output_type": "stream",
     "text": [
      "เลขที่กรอก => 2\n",
      "เลขที่กรอก => 2\n",
      "เลขที่กรอก => 2\n",
      "เลขที่กรอก => 2\n",
      "เลขที่กรอก => 2\n",
      "ผลร่วมทั้งหมด => 32\n"
     ]
    }
   ],
   "source": [
    "sum = 1\n",
    "for i in range(5):\n",
    "    Number_input = int(input(\"กรอกข้อมูล =>\"))\n",
    "    sum *= Number_input\n",
    "    print(\"เลขที่กรอก => {:,d}\".format(Number_input))\n",
    "print(\"ผลร่วมทั้งหมด => {:,d}\".format(sum))"
   ]
  },
  {
   "cell_type": "markdown",
   "metadata": {},
   "source": [
    "เขียนโปรเเกรมรับอินพุต 1 ตัวที่เป็นจำนวนเต็มบวก หลังจากนั้นให้ทำการตรวจสอบว่า มีจำนวนเต็มบวกตัวใดบ้างที่หารจำนวนที่รับมาลงตัวเเละพิมพ์จำนวนเหล่านั้นออกมา"
   ]
  },
  {
   "cell_type": "code",
   "execution_count": null,
   "metadata": {},
   "outputs": [],
   "source": [
    "\n",
    "Number_input = int(input(\"กรอกตัวเลข => \"))\n",
    "i = 1\n",
    "while Number_input > 0 :\n",
    "    if Number_input % i == 0 :\n",
    "        print(\"{} หารลงตัว {}\".format(Number_input,i))\n",
    "    else :\n",
    "        pass\n",
    "    i += 1"
   ]
  },
  {
   "cell_type": "markdown",
   "metadata": {},
   "source": [
    "16. เขียนโปรเเกรมรับอินพุต 1 ตัวที่เป็นจำนวนเต็มบวก หลังจากนั้นให้ตรวจสอบว่าจำนวนที่รับเป็นจำนวนเฉพาะหรือไม่\n",
    "* ถ้าเป็นให้พิมพ์ \" is prime \"\n",
    "* ถ้าไม่เป็นให้เป็น \" is not prime\""
   ]
  },
  {
   "cell_type": "code",
   "execution_count": 18,
   "metadata": {},
   "outputs": [
    {
     "name": "stdout",
     "output_type": "stream",
     "text": [
      "1 is not prime\n",
      "2 is prime\n",
      "3 is not prime\n",
      "4 is prime\n",
      "5 is not prime\n",
      "6 is prime\n",
      "7 is not prime\n",
      "8 is prime\n",
      "9 is not prime\n",
      "10 is prime\n"
     ]
    }
   ],
   "source": [
    "Number_input = int(input(\"กรอกตัวเลข => \"))\n",
    "\n",
    "for i in range(1,Number_input+1):\n",
    "    if i % 2 == 0:\n",
    "        print(\"{:,d} is prime\".format(i))\n",
    "    elif i % 2 == 1:\n",
    "        print(\"{:,d} is not prime\".format(i))\n",
    "    else:\n",
    "        pass"
   ]
  },
  {
   "cell_type": "code",
   "execution_count": 17,
   "metadata": {},
   "outputs": [
    {
     "name": "stdout",
     "output_type": "stream",
     "text": [
      "1 is not prime\n",
      "2 is prime\n",
      "3 is not prime\n",
      "4 is prime\n",
      "5 is not prime\n",
      "6 is prime\n",
      "7 is not prime\n",
      "8 is prime\n",
      "9 is not prime\n",
      "10 is prime\n"
     ]
    }
   ],
   "source": [
    "Number_input = int(input(\"กรอกตัวเลข => \"))\n",
    "i = 1\n",
    "while i <=  Number_input:\n",
    "    if i % 2 == 0:\n",
    "        print(\"{:,d} is prime\".format(i))\n",
    "    elif i % 2 == 1:\n",
    "        print(\"{:,d} is not prime\".format(i))\n",
    "    else:\n",
    "        pass\n",
    "    i += 1"
   ]
  },
  {
   "cell_type": "code",
   "execution_count": 23,
   "metadata": {},
   "outputs": [
    {
     "name": "stdout",
     "output_type": "stream",
     "text": [
      "22,222 is not prime\n"
     ]
    }
   ],
   "source": [
    "Number_input = int(input(\"กรอกตัวเลข => \"))\n",
    "count = 0\n",
    "for i in range(1,Number_input+1):\n",
    "    if Number_input % i == 0 :\n",
    "        count += 1\n",
    "if count == 2:\n",
    "    print(\"{:,d} is prime\".format(Number_input))\n",
    "else:\n",
    "    print(\"{:,d} is not prime\".format(Number_input))"
   ]
  }
 ],
 "metadata": {
  "kernelspec": {
   "display_name": "Python 3.10.7 64-bit",
   "language": "python",
   "name": "python3"
  },
  "language_info": {
   "codemirror_mode": {
    "name": "ipython",
    "version": 3
   },
   "file_extension": ".py",
   "mimetype": "text/x-python",
   "name": "python",
   "nbconvert_exporter": "python",
   "pygments_lexer": "ipython3",
   "version": "3.10.7"
  },
  "orig_nbformat": 4,
  "vscode": {
   "interpreter": {
    "hash": "547733121963954cf03ad109e00d47313429c4af37f837bad0df09349b1b3ecd"
   }
  }
 },
 "nbformat": 4,
 "nbformat_minor": 2
}
