{
 "cells": [
  {
   "cell_type": "markdown",
   "metadata": {},
   "source": [
    "1. เขียนโปรเเกรมพิมพ์ 0,1,2...,19 โดยการใช้ for loop หรือ while loop"
   ]
  },
  {
   "cell_type": "code",
   "execution_count": 8,
   "metadata": {},
   "outputs": [
    {
     "name": "stdout",
     "output_type": "stream",
     "text": [
      "0, 1, 2, 3, 4, 5, 6, 7, 8, 9, 10, 11, 12, 13, 14, 15, 16, 17, 18, 19, "
     ]
    }
   ],
   "source": [
    "# for loop\n",
    "for i in range(0,20):\n",
    "    print(\"%d, \"% i , end=\"\")"
   ]
  },
  {
   "cell_type": "code",
   "execution_count": 1,
   "metadata": {},
   "outputs": [
    {
     "name": "stdout",
     "output_type": "stream",
     "text": [
      "0, 1, 2, 3, 4, 5, 6, 7, 8, 9, 10, 11, 12, 13, 14, 15, 16, 17, 18, 19, "
     ]
    }
   ],
   "source": [
    "# while loop\n",
    "i = 0\n",
    "while i < 20 :\n",
    "    print(\"%d, \"% i , end=\"\")\n",
    "    i += 1"
   ]
  },
  {
   "cell_type": "markdown",
   "metadata": {},
   "source": [
    "2. เขียนโปรเเกรมพิมพ์ 0,2,4...,18 โดยการใช้ for loop หรือ while loop"
   ]
  },
  {
   "cell_type": "code",
   "execution_count": 2,
   "metadata": {},
   "outputs": [
    {
     "name": "stdout",
     "output_type": "stream",
     "text": [
      "0, 2, 4, 6, 8, 10, 12, 14, 16, 18, "
     ]
    }
   ],
   "source": [
    "# for loop\n",
    "for i in range(0,19,2):\n",
    "    print(\"%d, \"% i , end=\"\")"
   ]
  },
  {
   "cell_type": "code",
   "execution_count": 3,
   "metadata": {},
   "outputs": [
    {
     "name": "stdout",
     "output_type": "stream",
     "text": [
      "0, 2, 4, 6, 8, 10, 12, 14, 16, 18, "
     ]
    }
   ],
   "source": [
    "# while Loop\n",
    "i = 0\n",
    "while i < 19:\n",
    "    print(\"%d, \"% i , end=\"\")\n",
    "    i += 2"
   ]
  },
  {
   "cell_type": "markdown",
   "metadata": {},
   "source": [
    "3.เขียนโปรเเกรมพิมพ์ 1,3,5...,19 โดยการใช้ for loop หรือ while loop"
   ]
  },
  {
   "cell_type": "code",
   "execution_count": 5,
   "metadata": {},
   "outputs": [
    {
     "name": "stdout",
     "output_type": "stream",
     "text": [
      "1,3,5,7,9,11,13,15,17,19,"
     ]
    }
   ],
   "source": [
    "# for loop\n",
    "for i in range(1,20,2):\n",
    "    print(\"%d,\"%i,end=\"\")"
   ]
  },
  {
   "cell_type": "code",
   "execution_count": 8,
   "metadata": {},
   "outputs": [
    {
     "name": "stdout",
     "output_type": "stream",
     "text": [
      "1,3,5,7,9,11,13,15,17,19,"
     ]
    }
   ],
   "source": [
    "# while Loop\n",
    "i = 1\n",
    "while i < 20:\n",
    "    print(\"%d,\"%i,end=\"\") \n",
    "    i += 2"
   ]
  },
  {
   "cell_type": "markdown",
   "metadata": {},
   "source": [
    "4.เขียนโปรเเกรมพิมพ์ 19,18,17...,0 โดยการใช้ for loop หรือ while loop"
   ]
  },
  {
   "cell_type": "code",
   "execution_count": 13,
   "metadata": {},
   "outputs": [
    {
     "name": "stdout",
     "output_type": "stream",
     "text": [
      "19,18,17,16,15,14,13,12,11,10,9,8,7,6,5,4,3,2,1,0,"
     ]
    }
   ],
   "source": [
    "# for loop \n",
    "for i in range(19,-1,-1):\n",
    "    print(\"%d,\" %i,end=\"\")"
   ]
  },
  {
   "cell_type": "code",
   "execution_count": 14,
   "metadata": {},
   "outputs": [
    {
     "name": "stdout",
     "output_type": "stream",
     "text": [
      "19,18,17,16,15,14,13,12,11,10,9,8,7,6,5,4,3,2,1,0,"
     ]
    }
   ],
   "source": [
    "# while Loop\n",
    "i = 19\n",
    "while i > -1:\n",
    "    print(\"%d,\" %i,end=\"\")\n",
    "    i += -1"
   ]
  },
  {
   "cell_type": "markdown",
   "metadata": {},
   "source": [
    "5.เขียนโปรเเกรมพิมพ์ 18,16,14...,0 โดยการใช้ for loop หรือ while loop"
   ]
  },
  {
   "cell_type": "code",
   "execution_count": 15,
   "metadata": {},
   "outputs": [
    {
     "name": "stdout",
     "output_type": "stream",
     "text": [
      "18,16,14,12,10,8,6,4,2,0,"
     ]
    }
   ],
   "source": [
    "# for loop\n",
    "for i in range(18,-1,-2):\n",
    "    print(\"%d,\" %i,end=\"\")"
   ]
  },
  {
   "cell_type": "code",
   "execution_count": 17,
   "metadata": {},
   "outputs": [
    {
     "name": "stdout",
     "output_type": "stream",
     "text": [
      "18,16,14,12,10,8,6,4,2,0,"
     ]
    }
   ],
   "source": [
    "# while Loop\n",
    "i = 18\n",
    "while i > -1:\n",
    "    print(\"%d,\" %i,end=\"\")\n",
    "    i += -2"
   ]
  },
  {
   "cell_type": "markdown",
   "metadata": {},
   "source": [
    "6.เขียนโปรเเกรมพิมพ์ 19,17,15...,1 โดยการใช้ for loop หรือ while loop"
   ]
  },
  {
   "cell_type": "code",
   "execution_count": 18,
   "metadata": {},
   "outputs": [
    {
     "name": "stdout",
     "output_type": "stream",
     "text": [
      "19,17,15,13,11,9,7,5,3,1,"
     ]
    }
   ],
   "source": [
    "# for Loop\n",
    "for i in range(19,0,-2):\n",
    "    print(\"%d,\" %i,end=\"\")\n"
   ]
  },
  {
   "cell_type": "code",
   "execution_count": 19,
   "metadata": {},
   "outputs": [
    {
     "name": "stdout",
     "output_type": "stream",
     "text": [
      "19,17,15,13,11,9,7,5,3,1,"
     ]
    }
   ],
   "source": [
    "# while loop\n",
    "i = 19\n",
    "while i > 0 :\n",
    "    print(\"%d,\" %i,end=\"\")\n",
    "    i += -2"
   ]
  },
  {
   "cell_type": "markdown",
   "metadata": {},
   "source": [
    "7.เขียนโปรเเกรมพิมพ์ -3,-2,-1,0...,9 โดยการใช้ for loop หรือ while loop"
   ]
  },
  {
   "cell_type": "code",
   "execution_count": 20,
   "metadata": {},
   "outputs": [
    {
     "name": "stdout",
     "output_type": "stream",
     "text": [
      "-3,-2,-1,0,1,2,3,4,5,6,7,8,9,"
     ]
    }
   ],
   "source": [
    "# for loop\n",
    "for i in range(-3,10):\n",
    "    print(\"%d,\" %i,end=\"\")"
   ]
  },
  {
   "cell_type": "code",
   "execution_count": 21,
   "metadata": {},
   "outputs": [
    {
     "name": "stdout",
     "output_type": "stream",
     "text": [
      "-3,-2,-1,0,1,2,3,4,5,6,7,8,9,"
     ]
    }
   ],
   "source": [
    "# while Loop\n",
    "i = -3\n",
    "while i < 10 :\n",
    "    print(\"%d,\" %i,end=\"\")\n",
    "    i += 1"
   ]
  },
  {
   "cell_type": "markdown",
   "metadata": {},
   "source": [
    "8.เขียนโปรเเกรมพิมพ์ -9,-8,-7...,0 โดยการใช้ for loop หรือ while loop"
   ]
  },
  {
   "cell_type": "code",
   "execution_count": 25,
   "metadata": {},
   "outputs": [
    {
     "name": "stdout",
     "output_type": "stream",
     "text": [
      "-9,-8,-7,-6,-5,-4,-3,-2,-1,0,"
     ]
    }
   ],
   "source": [
    "# for Loop\n",
    "for i in range(-9,1):\n",
    "    print(\"%d,\" %i,end=\"\")"
   ]
  },
  {
   "cell_type": "code",
   "execution_count": 26,
   "metadata": {},
   "outputs": [
    {
     "name": "stdout",
     "output_type": "stream",
     "text": [
      "-9,-8,-7,-6,-5,-4,-3,-2,-1,0,"
     ]
    }
   ],
   "source": [
    "# while Loop\n",
    "i = -9 \n",
    "while i < 1 :\n",
    "    print(\"%d,\" %i,end=\"\")\n",
    "    i += 1"
   ]
  },
  {
   "cell_type": "markdown",
   "metadata": {},
   "source": [
    "9.เขียนโปรเเกรมพิมพ์ -5,-6,-7...,-15 โดยการใช้ for loop หรือ while loop"
   ]
  },
  {
   "cell_type": "code",
   "execution_count": 28,
   "metadata": {},
   "outputs": [
    {
     "name": "stdout",
     "output_type": "stream",
     "text": [
      "-5,-6,-7,-8,-9,-10,-11,-12,-13,-14,-15,-16,"
     ]
    }
   ],
   "source": [
    "# for Loop\n",
    "for i in range (-5,-17,-1):\n",
    "    print(\"%d,\" %i,end=\"\")\n"
   ]
  },
  {
   "cell_type": "code",
   "execution_count": 30,
   "metadata": {},
   "outputs": [
    {
     "name": "stdout",
     "output_type": "stream",
     "text": [
      "-5,-6,-7,-8,-9,-10,-11,-12,-13,-14,-15,-16,"
     ]
    }
   ],
   "source": [
    "# while loop\n",
    "i = -5\n",
    "while i > -17:\n",
    "    print(\"%d,\" %i,end=\"\")\n",
    "    i += -1"
   ]
  },
  {
   "cell_type": "markdown",
   "metadata": {},
   "source": [
    "10.เขียนโปรเเกรมพิมพ์ -5,-7,-9...,-15 โดยการใช้ for loop หรือ while loop"
   ]
  },
  {
   "cell_type": "code",
   "execution_count": 6,
   "metadata": {},
   "outputs": [
    {
     "name": "stdout",
     "output_type": "stream",
     "text": [
      "-5,-7,-9,-11,-13,-15,"
     ]
    }
   ],
   "source": [
    "# for Loop\n",
    "for i in range(-5,-16,-2):\n",
    "    print(\"%d,\" %i,end=\"\")"
   ]
  },
  {
   "cell_type": "code",
   "execution_count": 5,
   "metadata": {},
   "outputs": [
    {
     "name": "stdout",
     "output_type": "stream",
     "text": [
      "-5,-7,-9,-11,-13,-15,"
     ]
    }
   ],
   "source": [
    "# while loop\n",
    "i = -5\n",
    "while i > -16:\n",
    "    print(\"%d,\" %i,end=\"\")\n",
    "    i += -2"
   ]
  },
  {
   "cell_type": "markdown",
   "metadata": {},
   "source": [
    "เขียนโปรเเกรมรับค่า n เเล้วคำนวณค่าต่อไปนี้ เเละพิมพ์ออกมา"
   ]
  },
  {
   "cell_type": "code",
   "execution_count": 16,
   "metadata": {},
   "outputs": [
    {
     "name": "stdout",
     "output_type": "stream",
     "text": [
      "28\n"
     ]
    }
   ],
   "source": [
    "# for Loop\n",
    "number = int(input(\"กรอกตัวเลข: \"))\n",
    "sum = 0\n",
    "for i in range(1,number+1):\n",
    "    sum = sum + i\n",
    "print(sum)\n",
    "    "
   ]
  },
  {
   "cell_type": "code",
   "execution_count": 32,
   "metadata": {},
   "outputs": [
    {
     "name": "stdout",
     "output_type": "stream",
     "text": [
      "3\n"
     ]
    }
   ],
   "source": [
    "# while Loop\n",
    "number = int(input(\"กรอกตัวเลข: \"))\n",
    "sum = 0\n",
    "i = 1\n",
    "while i <= number:\n",
    "    sum = sum + i\n",
    "    i += 1\n",
    "print(sum)"
   ]
  },
  {
   "cell_type": "markdown",
   "metadata": {},
   "source": [
    "เขีบยโปรเเกรมพิมพ์จำนวนที่หารด้วย 3  ซึ่งอยู่ระหว่าง 0 เเละ 100"
   ]
  },
  {
   "cell_type": "code",
   "execution_count": null,
   "metadata": {},
   "outputs": [],
   "source": [
    "for i in range(0,101):\n",
    "    if i%3 == 0 :\n",
    "        print(i) "
   ]
  }
 ],
 "metadata": {
  "kernelspec": {
   "display_name": "Python 3.10.7 64-bit",
   "language": "python",
   "name": "python3"
  },
  "language_info": {
   "codemirror_mode": {
    "name": "ipython",
    "version": 3
   },
   "file_extension": ".py",
   "mimetype": "text/x-python",
   "name": "python",
   "nbconvert_exporter": "python",
   "pygments_lexer": "ipython3",
   "version": "3.10.7"
  },
  "orig_nbformat": 4,
  "vscode": {
   "interpreter": {
    "hash": "547733121963954cf03ad109e00d47313429c4af37f837bad0df09349b1b3ecd"
   }
  }
 },
 "nbformat": 4,
 "nbformat_minor": 2
}
