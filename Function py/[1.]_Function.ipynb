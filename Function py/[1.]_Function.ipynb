{
 "cells": [
  {
   "cell_type": "markdown",
   "metadata": {},
   "source": [
    "1. เขียนฟังก์ชั่นเพื่อบวกเลข 2 ตัว เเละ return ผลลัพธ์ออกมา\n",
    "กำหนดให้ฟังก์ชันนี้รับ parameter 2 ตัว คือ a เเละ b ที่จำเป็นจำนวนใดๆ"
   ]
  },
  {
   "cell_type": "code",
   "execution_count": null,
   "metadata": {},
   "outputs": [],
   "source": []
  },
  {
   "cell_type": "markdown",
   "metadata": {},
   "source": [
    "2. เขียนฟังก์ชั่นเพื่อบวกเลข 3 ตัว เเละ return ผลลัพธ์ออกมา\n",
    "กำหนดให้ฟังก์ชันนี้รับ parameter 3 ตัว คือ a , b เเละ c ที่จำเป็นจำนวนใดๆ"
   ]
  },
  {
   "cell_type": "code",
   "execution_count": null,
   "metadata": {},
   "outputs": [],
   "source": []
  },
  {
   "cell_type": "markdown",
   "metadata": {},
   "source": [
    "3. เขียนฟังก์ชั่นเพื่อยกกำลังสองเลข 1 ตัว เเละ return ผลลัพธ์ออกมา\n",
    "กำหนดให้ฟังก์ชันนี้รับ parameter 1 ตัว คือ a ที่จำเป็นจำนวนใดๆ"
   ]
  },
  {
   "cell_type": "code",
   "execution_count": null,
   "metadata": {},
   "outputs": [],
   "source": []
  }
 ],
 "metadata": {
  "language_info": {
   "name": "python"
  },
  "orig_nbformat": 4
 },
 "nbformat": 4,
 "nbformat_minor": 2
}
