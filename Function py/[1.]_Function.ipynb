{
 "cells": [
  {
   "cell_type": "markdown",
   "metadata": {},
   "source": [
    "1. เขียนฟังก์ชั่นเพื่อบวกเลข 2 ตัว เเละ return ผลลัพธ์ออกมา\n",
    "กำหนดให้ฟังก์ชันนี้รับ parameter 2 ตัว คือ a เเละ b ที่จำเป็นจำนวนใดๆ"
   ]
  },
  {
   "cell_type": "code",
   "execution_count": 7,
   "metadata": {},
   "outputs": [
    {
     "name": "stdout",
     "output_type": "stream",
     "text": [
      "6 and 8\n",
      "ผลลัพธ์ =>  14\n"
     ]
    }
   ],
   "source": [
    "def Sum_nume(a,b):\n",
    "    print(a,\"and\",b)\n",
    "    sum = a+b\n",
    "    sum = print(\"ผลลัพธ์ => \",sum)\n",
    "    return(sum)\n",
    "\n",
    "Sum_nume(6,8)"
   ]
  },
  {
   "cell_type": "markdown",
   "metadata": {},
   "source": [
    "2. เขียนฟังก์ชั่นเพื่อบวกเลข 3 ตัว เเละ return ผลลัพธ์ออกมา\n",
    "กำหนดให้ฟังก์ชันนี้รับ parameter 3 ตัว คือ a , b เเละ c ที่จำเป็นจำนวนใดๆ"
   ]
  },
  {
   "cell_type": "code",
   "execution_count": 9,
   "metadata": {},
   "outputs": [
    {
     "name": "stdout",
     "output_type": "stream",
     "text": [
      "7 2 9\n",
      "ผลลัพธ์ =>  18\n"
     ]
    }
   ],
   "source": [
    "def Sum_numes(a,b,c):\n",
    "    print(a,b,c)\n",
    "    sum = a + b + c\n",
    "    sum = print(\"ผลลัพธ์ => \",sum)\n",
    "    return(sum)\n",
    "\n",
    "Sum_numes(7,2,9)"
   ]
  },
  {
   "cell_type": "markdown",
   "metadata": {},
   "source": [
    "3. เขียนฟังก์ชั่นเพื่อยกกำลังสองเลข 1 ตัว เเละ return ผลลัพธ์ออกมา\n",
    "กำหนดให้ฟังก์ชันนี้รับ parameter 1 ตัว คือ a ที่จำเป็นจำนวนใดๆ"
   ]
  },
  {
   "cell_type": "code",
   "execution_count": 11,
   "metadata": {},
   "outputs": [
    {
     "name": "stdout",
     "output_type": "stream",
     "text": [
      "3\n",
      "ผลลัพธ์ =>  9\n"
     ]
    }
   ],
   "source": [
    "def exponent_nume(a):\n",
    "    print(a)\n",
    "    exponent = a*a\n",
    "    exponent = print(\"ผลลัพธ์ => \",exponent)\n",
    "\n",
    "exponent_nume(3)"
   ]
  },
  {
   "cell_type": "markdown",
   "metadata": {},
   "source": [
    "4. เขียนฟังชั่นเพื่อยกกำลังสองสมาชิกทุกตัวใน list เเละ return list ที่เป็นผลลัพธ์จากการยกกำลังสอง กำหนดให้ฟังชันนี้รับ parameter 1 ตัว คือ listA  ที่เป็นสมาชิกเป็นจำนวนใดๆ\n",
    "* ตัวอย่างที่ 1 : สมมติให้ listA = [1,2,3,4,5] จะ return = [1,4,9,16,25]"
   ]
  },
  {
   "cell_type": "code",
   "execution_count": 26,
   "metadata": {},
   "outputs": [
    {
     "data": {
      "text/plain": [
       "[1, 4, 9, 16, 25]"
      ]
     },
     "execution_count": 26,
     "metadata": {},
     "output_type": "execute_result"
    }
   ],
   "source": [
    "# listA = [1,2,3,4,5]\n",
    "def squared_list(listA):\n",
    "    squared = []\n",
    "    for i in listA:\n",
    "        squared.append(i**2)\n",
    "    return (squared)\n",
    "\n",
    "squared_list([1,2,3,4,5])"
   ]
  },
  {
   "cell_type": "markdown",
   "metadata": {},
   "source": [
    "เขียนฟังก์ชันเพื่อหาหาผลบวกกำลังสองของสมาชิกใน list เเละ return ผลลัพธ์ออกมา \n",
    "* กำหนดให้ฟังก์ชันนี้รับ parameter 1 ตัว คือ listA ที่มีสมาชิกเป็นจำนวนใดๆ "
   ]
  },
  {
   "cell_type": "code",
   "execution_count": 18,
   "metadata": {},
   "outputs": [
    {
     "data": {
      "text/plain": [
       "55"
      ]
     },
     "execution_count": 18,
     "metadata": {},
     "output_type": "execute_result"
    }
   ],
   "source": [
    "\n",
    "def sum_squared_list(listA):\n",
    "    sumx = 0\n",
    "    for i in listA:\n",
    "        sumx = sumx + i**2\n",
    "    return (sumx)\n",
    "\n",
    "sum_squared_list([1,2,3,4,5])"
   ]
  }
 ],
 "metadata": {
  "kernelspec": {
   "display_name": "Python 3.10.7 64-bit",
   "language": "python",
   "name": "python3"
  },
  "language_info": {
   "codemirror_mode": {
    "name": "ipython",
    "version": 3
   },
   "file_extension": ".py",
   "mimetype": "text/x-python",
   "name": "python",
   "nbconvert_exporter": "python",
   "pygments_lexer": "ipython3",
   "version": "3.10.7"
  },
  "orig_nbformat": 4,
  "vscode": {
   "interpreter": {
    "hash": "547733121963954cf03ad109e00d47313429c4af37f837bad0df09349b1b3ecd"
   }
  }
 },
 "nbformat": 4,
 "nbformat_minor": 2
}
